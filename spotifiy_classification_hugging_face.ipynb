{
 "cells": [
  {
   "cell_type": "markdown",
   "id": "27c3ea07",
   "metadata": {},
   "source": [
    "# Classification \n",
    "## Failed cause too many classes"
   ]
  },
  {
   "cell_type": "code",
   "execution_count": 1,
   "id": "aa378ca3",
   "metadata": {},
   "outputs": [
    {
     "name": "stderr",
     "output_type": "stream",
     "text": [
      "C:\\Users\\18224\\AppData\\Roaming\\Python\\Python39\\site-packages\\matplotlib\\projections\\__init__.py:63: UserWarning: Unable to import Axes3D. This may be due to multiple versions of Matplotlib being installed (e.g. as a system package and as a pip package). As a result, the 3D projection is not available.\n",
      "  warnings.warn(\"Unable to import Axes3D. This may be due to multiple versions of \"\n"
     ]
    }
   ],
   "source": [
    "#load the parquet file\n",
    "import pandas as pd\n",
    "import seaborn as sns\n",
    "import numpy as np\n",
    "import matplotlib.pyplot as plt\n",
    "from sklearn.model_selection import train_test_split\n",
    "from sklearn.preprocessing import MinMaxScaler\n",
    "from sklearn.model_selection import cross_validate\n",
    "\n",
    "from sklearn import preprocessing\n",
    "from sklearn import metrics\n",
    "from sklearn import decomposition\n",
    "from sklearn.pipeline import Pipeline\n",
    "from sklearn.decomposition import PCA\n",
    "from sklearn.tree import DecisionTreeClassifier\n",
    "from sklearn.linear_model import LogisticRegression\n",
    "from sklearn.metrics import classification_report\n",
    "\n",
    "df = pd.read_parquet('spotify.parquet', engine='pyarrow')"
   ]
  },
  {
   "cell_type": "code",
   "execution_count": null,
   "id": "5ac6f2b5",
   "metadata": {},
   "outputs": [],
   "source": [
    "#df.iloc[:,:21]\n",
    "#df.info()\n",
    "#df.nunique()"
   ]
  },
  {
   "cell_type": "code",
   "execution_count": 2,
   "id": "df9faf40",
   "metadata": {},
   "outputs": [],
   "source": [
    "df = df.drop([\"artists\",\"explicit\",\"track_id\",\"track_name\",\n",
    "                \"Unnamed: 0\",\"album_name\", \"duration_ms\", \"time_signature\",\"popularity\"], axis =1)\n",
    "\n",
    "\n"
   ]
  },
  {
   "cell_type": "code",
   "execution_count": null,
   "id": "b973cc17",
   "metadata": {},
   "outputs": [],
   "source": [
    "df = df.replace(\n",
    "    {'track_genre' : \n",
    "     {'cantopop' : 'pop',\n",
    "      'indie-pop' : 'pop',\n",
    "      'k-pop' : 'pop',\n",
    "      'mandopop' : 'pop',\n",
    "      'pop-film' : 'pop',\n",
    "      'power-pop' : 'pop',\n",
    "      'synth-pop' : 'pop',\n",
    "      'j-pop' : 'pop',\n",
    "      'black-metal' : 'metal',\n",
    "      'death-metal' : 'metal',\n",
    "      'heavy-metal' : 'metal',\n",
    "      'metalcore' : 'metal',\n",
    "      'detroit-techno' : 'techno',\n",
    "      'minimal-techno' : 'techno',\n",
    "      'singer-songwriter' : 'techno',\n",
    "      'electronic' : 'electro',\n",
    "      'dancehall' : 'dance',\n",
    "      'j-dance' : 'dance',\n",
    "      'hard-rock' : 'rock',\n",
    "      'j-rock' : 'rock',\n",
    "      'punk-rock' : 'rock',\n",
    "      'rock-n-roll' : 'rock',\n",
    "      'rockabilly' : 'rock',\n",
    "      'psych-rock' : 'rock',\n",
    "      'alt-rock' : 'rock',\n",
    "      'latino' : 'latin',\n",
    "      'dubstep' : 'dub',\n",
    "      'reggaeton' : 'reggae',\n",
    "      'deep-house' : 'house',\n",
    "      'progressive-house' : 'house'\n",
    "     \n",
    "     }\n",
    "    }\n",
    ")"
   ]
  },
  {
   "cell_type": "code",
   "execution_count": null,
   "id": "ee59609c",
   "metadata": {},
   "outputs": [],
   "source": [
    "df.describe()\n"
   ]
  },
  {
   "cell_type": "code",
   "execution_count": null,
   "id": "0e51f230",
   "metadata": {},
   "outputs": [],
   "source": [
    "df.info()"
   ]
  },
  {
   "cell_type": "code",
   "execution_count": null,
   "id": "26040824",
   "metadata": {},
   "outputs": [],
   "source": [
    "df[\"track_genre\"].value_counts()"
   ]
  },
  {
   "cell_type": "code",
   "execution_count": null,
   "id": "ead15b43",
   "metadata": {},
   "outputs": [],
   "source": [
    "df.corr()"
   ]
  },
  {
   "cell_type": "code",
   "execution_count": null,
   "id": "9537ec18",
   "metadata": {},
   "outputs": [],
   "source": [
    "plt.subplots(figsize=(10,9))\n",
    "sns.heatmap(df.corr(), cmap='coolwarm', annot=True)\n",
    "plt.show()"
   ]
  },
  {
   "cell_type": "code",
   "execution_count": 4,
   "id": "a9b5ec0a",
   "metadata": {},
   "outputs": [],
   "source": [
    "x = df.loc[:,:\"tempo\"]\n",
    "y = df[\"track_genre\"]"
   ]
  },
  {
   "cell_type": "code",
   "execution_count": null,
   "id": "9c1c41d9",
   "metadata": {},
   "outputs": [],
   "source": [
    "k=0\n",
    "plt.figure(figsize = (18,14))\n",
    "for i in x.columns:\n",
    "    plt.subplot(4,4, k + 1)\n",
    "    sns.distplot(x[i])\n",
    "    plt.xlabel(i, fontsize=11)\n",
    "    k +=1"
   ]
  },
  {
   "cell_type": "code",
   "execution_count": 5,
   "id": "e29a0fbc",
   "metadata": {},
   "outputs": [],
   "source": [
    "xtrain, xtest, ytrain, ytest = train_test_split(x, y,\n",
    "test_size= 0.2, random_state=42, shuffle = True)\n",
    "\n",
    "#xtrain.columns\n",
    "#xtrain.describe()"
   ]
  },
  {
   "cell_type": "code",
   "execution_count": 6,
   "id": "a0cf9d38",
   "metadata": {},
   "outputs": [],
   "source": [
    "col = xtrain.columns\n",
    "scalerx = MinMaxScaler()\n",
    "xtrain = scalerx.fit_transform(xtrain)\n",
    "xtest = scalerx.transform(xtest)\n",
    "xtrain = pd.DataFrame(xtrain, columns = col)\n",
    "xtest = pd.DataFrame(xtest, columns = col)\n",
    "\n"
   ]
  },
  {
   "cell_type": "code",
   "execution_count": null,
   "id": "755e117a",
   "metadata": {},
   "outputs": [],
   "source": [
    "xtrain.describe()"
   ]
  },
  {
   "cell_type": "code",
   "execution_count": 14,
   "id": "01bc6083",
   "metadata": {},
   "outputs": [
    {
     "data": {
      "text/html": [
       "<div>\n",
       "<style scoped>\n",
       "    .dataframe tbody tr th:only-of-type {\n",
       "        vertical-align: middle;\n",
       "    }\n",
       "\n",
       "    .dataframe tbody tr th {\n",
       "        vertical-align: top;\n",
       "    }\n",
       "\n",
       "    .dataframe thead th {\n",
       "        text-align: right;\n",
       "    }\n",
       "</style>\n",
       "<table border=\"1\" class=\"dataframe\">\n",
       "  <thead>\n",
       "    <tr style=\"text-align: right;\">\n",
       "      <th></th>\n",
       "      <th>danceability</th>\n",
       "      <th>energy</th>\n",
       "      <th>key</th>\n",
       "      <th>loudness</th>\n",
       "      <th>mode</th>\n",
       "      <th>speechiness</th>\n",
       "      <th>acousticness</th>\n",
       "      <th>instrumentalness</th>\n",
       "      <th>liveness</th>\n",
       "      <th>valence</th>\n",
       "      <th>tempo</th>\n",
       "    </tr>\n",
       "  </thead>\n",
       "  <tbody>\n",
       "    <tr>\n",
       "      <th>0</th>\n",
       "      <td>0.649746</td>\n",
       "      <td>0.593</td>\n",
       "      <td>0.818182</td>\n",
       "      <td>0.718939</td>\n",
       "      <td>0.0</td>\n",
       "      <td>0.041036</td>\n",
       "      <td>0.397590</td>\n",
       "      <td>0.024700</td>\n",
       "      <td>0.0599</td>\n",
       "      <td>0.530653</td>\n",
       "      <td>0.437564</td>\n",
       "    </tr>\n",
       "    <tr>\n",
       "      <th>1</th>\n",
       "      <td>0.847716</td>\n",
       "      <td>0.718</td>\n",
       "      <td>0.636364</td>\n",
       "      <td>0.812219</td>\n",
       "      <td>0.0</td>\n",
       "      <td>0.071917</td>\n",
       "      <td>0.226908</td>\n",
       "      <td>0.000002</td>\n",
       "      <td>0.1080</td>\n",
       "      <td>0.429146</td>\n",
       "      <td>0.413414</td>\n",
       "    </tr>\n",
       "    <tr>\n",
       "      <th>2</th>\n",
       "      <td>0.797970</td>\n",
       "      <td>0.225</td>\n",
       "      <td>0.818182</td>\n",
       "      <td>0.610676</td>\n",
       "      <td>1.0</td>\n",
       "      <td>0.593782</td>\n",
       "      <td>0.681727</td>\n",
       "      <td>0.000000</td>\n",
       "      <td>0.2010</td>\n",
       "      <td>0.661307</td>\n",
       "      <td>0.494445</td>\n",
       "    </tr>\n",
       "    <tr>\n",
       "      <th>3</th>\n",
       "      <td>0.719797</td>\n",
       "      <td>0.829</td>\n",
       "      <td>0.000000</td>\n",
       "      <td>0.808575</td>\n",
       "      <td>1.0</td>\n",
       "      <td>0.253886</td>\n",
       "      <td>0.070080</td>\n",
       "      <td>0.000000</td>\n",
       "      <td>0.5610</td>\n",
       "      <td>0.657286</td>\n",
       "      <td>0.619726</td>\n",
       "    </tr>\n",
       "    <tr>\n",
       "      <th>4</th>\n",
       "      <td>0.797970</td>\n",
       "      <td>0.702</td>\n",
       "      <td>0.000000</td>\n",
       "      <td>0.791466</td>\n",
       "      <td>1.0</td>\n",
       "      <td>0.047254</td>\n",
       "      <td>0.513052</td>\n",
       "      <td>0.000000</td>\n",
       "      <td>0.1200</td>\n",
       "      <td>0.699497</td>\n",
       "      <td>0.467330</td>\n",
       "    </tr>\n",
       "    <tr>\n",
       "      <th>...</th>\n",
       "      <td>...</td>\n",
       "      <td>...</td>\n",
       "      <td>...</td>\n",
       "      <td>...</td>\n",
       "      <td>...</td>\n",
       "      <td>...</td>\n",
       "      <td>...</td>\n",
       "      <td>...</td>\n",
       "      <td>...</td>\n",
       "      <td>...</td>\n",
       "      <td>...</td>\n",
       "    </tr>\n",
       "    <tr>\n",
       "      <th>22795</th>\n",
       "      <td>0.517766</td>\n",
       "      <td>0.882</td>\n",
       "      <td>0.727273</td>\n",
       "      <td>0.811498</td>\n",
       "      <td>0.0</td>\n",
       "      <td>0.164767</td>\n",
       "      <td>0.001586</td>\n",
       "      <td>0.002060</td>\n",
       "      <td>0.0764</td>\n",
       "      <td>0.656281</td>\n",
       "      <td>0.691939</td>\n",
       "    </tr>\n",
       "    <tr>\n",
       "      <th>22796</th>\n",
       "      <td>0.462944</td>\n",
       "      <td>0.167</td>\n",
       "      <td>0.818182</td>\n",
       "      <td>0.702680</td>\n",
       "      <td>1.0</td>\n",
       "      <td>0.028808</td>\n",
       "      <td>0.850402</td>\n",
       "      <td>0.275000</td>\n",
       "      <td>0.1360</td>\n",
       "      <td>0.175879</td>\n",
       "      <td>0.639361</td>\n",
       "    </tr>\n",
       "    <tr>\n",
       "      <th>22797</th>\n",
       "      <td>0.537056</td>\n",
       "      <td>0.728</td>\n",
       "      <td>0.454545</td>\n",
       "      <td>0.739008</td>\n",
       "      <td>1.0</td>\n",
       "      <td>0.039171</td>\n",
       "      <td>0.642570</td>\n",
       "      <td>0.019700</td>\n",
       "      <td>0.3450</td>\n",
       "      <td>0.595980</td>\n",
       "      <td>0.485416</td>\n",
       "    </tr>\n",
       "    <tr>\n",
       "      <th>22798</th>\n",
       "      <td>0.650761</td>\n",
       "      <td>0.751</td>\n",
       "      <td>0.000000</td>\n",
       "      <td>0.787822</td>\n",
       "      <td>1.0</td>\n",
       "      <td>0.041969</td>\n",
       "      <td>0.018876</td>\n",
       "      <td>0.517000</td>\n",
       "      <td>0.3040</td>\n",
       "      <td>0.465327</td>\n",
       "      <td>0.628562</td>\n",
       "    </tr>\n",
       "    <tr>\n",
       "      <th>22799</th>\n",
       "      <td>0.395939</td>\n",
       "      <td>0.757</td>\n",
       "      <td>0.272727</td>\n",
       "      <td>0.708581</td>\n",
       "      <td>0.0</td>\n",
       "      <td>0.032228</td>\n",
       "      <td>0.001606</td>\n",
       "      <td>0.000758</td>\n",
       "      <td>0.0388</td>\n",
       "      <td>0.742714</td>\n",
       "      <td>0.715703</td>\n",
       "    </tr>\n",
       "  </tbody>\n",
       "</table>\n",
       "<p>114000 rows × 11 columns</p>\n",
       "</div>"
      ],
      "text/plain": [
       "       danceability  energy       key  loudness  mode  speechiness  \\\n",
       "0          0.649746   0.593  0.818182  0.718939   0.0     0.041036   \n",
       "1          0.847716   0.718  0.636364  0.812219   0.0     0.071917   \n",
       "2          0.797970   0.225  0.818182  0.610676   1.0     0.593782   \n",
       "3          0.719797   0.829  0.000000  0.808575   1.0     0.253886   \n",
       "4          0.797970   0.702  0.000000  0.791466   1.0     0.047254   \n",
       "...             ...     ...       ...       ...   ...          ...   \n",
       "22795      0.517766   0.882  0.727273  0.811498   0.0     0.164767   \n",
       "22796      0.462944   0.167  0.818182  0.702680   1.0     0.028808   \n",
       "22797      0.537056   0.728  0.454545  0.739008   1.0     0.039171   \n",
       "22798      0.650761   0.751  0.000000  0.787822   1.0     0.041969   \n",
       "22799      0.395939   0.757  0.272727  0.708581   0.0     0.032228   \n",
       "\n",
       "       acousticness  instrumentalness  liveness   valence     tempo  \n",
       "0          0.397590          0.024700    0.0599  0.530653  0.437564  \n",
       "1          0.226908          0.000002    0.1080  0.429146  0.413414  \n",
       "2          0.681727          0.000000    0.2010  0.661307  0.494445  \n",
       "3          0.070080          0.000000    0.5610  0.657286  0.619726  \n",
       "4          0.513052          0.000000    0.1200  0.699497  0.467330  \n",
       "...             ...               ...       ...       ...       ...  \n",
       "22795      0.001586          0.002060    0.0764  0.656281  0.691939  \n",
       "22796      0.850402          0.275000    0.1360  0.175879  0.639361  \n",
       "22797      0.642570          0.019700    0.3450  0.595980  0.485416  \n",
       "22798      0.018876          0.517000    0.3040  0.465327  0.628562  \n",
       "22799      0.001606          0.000758    0.0388  0.742714  0.715703  \n",
       "\n",
       "[114000 rows x 11 columns]"
      ]
     },
     "execution_count": 14,
     "metadata": {},
     "output_type": "execute_result"
    }
   ],
   "source": [
    "le = preprocessing.LabelEncoder()\n",
    "ytrain = le.fit_transform(ytrain)\n",
    "ytest = le.transform(ytest)\n",
    "\n",
    "#dont use the below y\n",
    "\n",
    "#merge back, not useful for modelling\n",
    "x = pd.concat([xtrain, xtest], axis = 0)\n",
    "y = pd.concat([pd.DataFrame(ytrain), pd.DataFrame(ytest)], axis = 0).transpose() \n",
    "\n",
    "y"
   ]
  },
  {
   "cell_type": "code",
   "execution_count": null,
   "id": "bb1ee3f3",
   "metadata": {},
   "outputs": [],
   "source": [
    "#show grapg, not useful for modelling\n",
    "y_train = le.inverse_transform(ytrain)\n",
    "y_test = le.inverse_transform(ytest)\n",
    "y_org = pd.concat([pd.DataFrame(y_train), pd.DataFrame(y_test)], axis = 0)\n",
    "np.unique(y_train)\n",
    "plt.subplots(figsize=(8,6))\n",
    "ax = sns.heatmap(xtrain.corr()).set(title = \"Correlation between Features\")"
   ]
  },
  {
   "cell_type": "code",
   "execution_count": null,
   "id": "e2af636e",
   "metadata": {},
   "outputs": [],
   "source": [
    "df[\"track_genre\"].unique()\n",
    "df[\"track_genre\"].value_counts()"
   ]
  },
  {
   "cell_type": "code",
   "execution_count": null,
   "id": "2aa6a0ec",
   "metadata": {},
   "outputs": [],
   "source": []
  },
  {
   "cell_type": "code",
   "execution_count": null,
   "id": "38d87c88",
   "metadata": {},
   "outputs": [],
   "source": [
    "#old code, pca = decomposition.PCA().fit(xtrain)\n",
    "\n",
    "plt.figure(figsize=(10,7))\n",
    "plt.plot(np.cumsum(pca.explained_variance_ratio_),color='k',lw=2)\n",
    "plt.xlabel('Number of components')\n",
    "plt.ylabel('Total explained variance')\n",
    "plt.xlim(0,12)\n",
    "plt.yticks(np.arange(0,1.1,0.1))\n",
    "plt.axvline(6,c='b')\n",
    "plt.axhline(0.95,c='r')\n",
    "plt.show();"
   ]
  },
  {
   "cell_type": "code",
   "execution_count": null,
   "id": "78bbdf52",
   "metadata": {},
   "outputs": [],
   "source": [
    "# Fit your dataset to the optimal pca\n",
    "pca = decomposition.PCA(n_components=6)\n",
    "x_train_pca = pca.fit_transform(xtrain)\n",
    "x_test_pca = pca.transform(xtest)"
   ]
  },
  {
   "cell_type": "code",
   "execution_count": 15,
   "id": "11f768f0",
   "metadata": {},
   "outputs": [
    {
     "name": "stdout",
     "output_type": "stream",
     "text": [
      "LogisticRegression(C=10.0, max_iter=10000)\n"
     ]
    }
   ],
   "source": [
    "reg=0.1\n",
    "\n",
    "multi_model = LogisticRegression(C=1/reg, solver='lbfgs', multi_class='auto', max_iter=10000,penalty='l2')\n",
    "print(multi_model)"
   ]
  },
  {
   "cell_type": "code",
   "execution_count": 16,
   "id": "967c276e",
   "metadata": {},
   "outputs": [
    {
     "name": "stderr",
     "output_type": "stream",
     "text": [
      "C:\\Users\\18224\\anaconda3\\lib\\site-packages\\sklearn\\utils\\validation.py:1184: DataConversionWarning: A column-vector y was passed when a 1d array was expected. Please change the shape of y to (n_samples, ), for example using ravel().\n",
      "  y = column_or_1d(y, warn=True)\n",
      "C:\\Users\\18224\\anaconda3\\lib\\site-packages\\sklearn\\utils\\validation.py:1184: DataConversionWarning: A column-vector y was passed when a 1d array was expected. Please change the shape of y to (n_samples, ), for example using ravel().\n",
      "  y = column_or_1d(y, warn=True)\n",
      "C:\\Users\\18224\\anaconda3\\lib\\site-packages\\sklearn\\utils\\validation.py:1184: DataConversionWarning: A column-vector y was passed when a 1d array was expected. Please change the shape of y to (n_samples, ), for example using ravel().\n",
      "  y = column_or_1d(y, warn=True)\n",
      "C:\\Users\\18224\\anaconda3\\lib\\site-packages\\sklearn\\utils\\validation.py:1184: DataConversionWarning: A column-vector y was passed when a 1d array was expected. Please change the shape of y to (n_samples, ), for example using ravel().\n",
      "  y = column_or_1d(y, warn=True)\n",
      "C:\\Users\\18224\\anaconda3\\lib\\site-packages\\sklearn\\utils\\validation.py:1184: DataConversionWarning: A column-vector y was passed when a 1d array was expected. Please change the shape of y to (n_samples, ), for example using ravel().\n",
      "  y = column_or_1d(y, warn=True)\n"
     ]
    }
   ],
   "source": [
    "from sklearn.model_selection import cross_val_score\n",
    "cv_score_lr = cross_val_score(multi_model, x,y,cv=5)"
   ]
  },
  {
   "cell_type": "code",
   "execution_count": 17,
   "id": "fabcc653",
   "metadata": {},
   "outputs": [
    {
     "name": "stdout",
     "output_type": "stream",
     "text": [
      "[0.1497807  0.15122807 0.15096491 0.15258772 0.15429825]\n"
     ]
    }
   ],
   "source": [
    "print(cv_score_lr)"
   ]
  },
  {
   "cell_type": "code",
   "execution_count": null,
   "id": "f5fd4164",
   "metadata": {},
   "outputs": [],
   "source": [
    "genre_predictions = multi_model.predict(xtest)\n",
    "print('Predicted labels: ', genre_predictions[::])\n",
    "print('Actual labels :', ytest[::])"
   ]
  },
  {
   "cell_type": "code",
   "execution_count": null,
   "id": "49d19d17",
   "metadata": {},
   "outputs": [],
   "source": [
    "print(classification_report(ytest, genre_predictions))"
   ]
  },
  {
   "cell_type": "code",
   "execution_count": null,
   "id": "57932e76",
   "metadata": {},
   "outputs": [],
   "source": [
    "pipe = Pipeline([('pca', PCA()),\n",
    "                 ('tree', DecisionTreeClassifier())])\n",
    "\n",
    "pipe.fit(xtrain, ytrain)\n",
    "\n",
    "genre_predictions = pipe.predict(xtest)\n",
    "print('Predicted labels: ', genre_predictions[::])\n",
    "print('Actual labels :', ytest[::])"
   ]
  },
  {
   "cell_type": "code",
   "execution_count": null,
   "id": "f4edd8c1",
   "metadata": {},
   "outputs": [],
   "source": [
    "print(classification_report(ytest, genre_predictions))"
   ]
  },
  {
   "cell_type": "code",
   "execution_count": null,
   "id": "319f1aaf",
   "metadata": {},
   "outputs": [],
   "source": []
  }
 ],
 "metadata": {
  "kernelspec": {
   "display_name": "Python 3 (ipykernel)",
   "language": "python",
   "name": "python3"
  },
  "language_info": {
   "codemirror_mode": {
    "name": "ipython",
    "version": 3
   },
   "file_extension": ".py",
   "mimetype": "text/x-python",
   "name": "python",
   "nbconvert_exporter": "python",
   "pygments_lexer": "ipython3",
   "version": "3.9.12"
  }
 },
 "nbformat": 4,
 "nbformat_minor": 5
}
